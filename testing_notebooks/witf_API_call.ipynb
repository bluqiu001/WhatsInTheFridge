{
 "cells": [
  {
   "cell_type": "code",
   "execution_count": 29,
   "metadata": {
    "scrolled": true
   },
   "outputs": [
    {
     "name": "stdout",
     "output_type": "stream",
     "text": [
      "<bound method Response.json of <Response [200]>>\n"
     ]
    }
   ],
   "source": [
    "import requests\n",
    "import json\n",
    "\n",
    "apiFTKey = \"wroXiS8dSq4aO0HBiXyKX4bZjaHakhcI8x8SfJ7g\"\n",
    "headers = {'X-API-Key':apiFTKey}\n",
    "apiFTUrl = \"https://jegp1jgq2h.execute-api.us-east-1.amazonaws.com/default/witf_recom\"\n",
    "payloadFT = json.dumps({\"recom_hist\": [],\"user_id\": \"value2\",\"recom_amount\": 15})\n",
    "header={\"x-api-key\" : apiFTKey}\n",
    "responseFT = requests.get(apiFTUrl, data=payloadFT, headers=header)\n",
    "if responseFT.status_code == 200:\n",
    "    print(responseFT.json)\n",
    "else:\n",
    "    print(responseFT.status_code)\n",
    "    print(\"Error executing API\")\n"
   ]
  },
  {
   "cell_type": "code",
   "execution_count": 30,
   "metadata": {},
   "outputs": [
    {
     "name": "stdout",
     "output_type": "stream",
     "text": [
      "{\"recom_ids\": [12, 18, 27, 1, 15, 7, 23, 30, 13, 21, 5, 11, 17, 19, 2]}\n"
     ]
    }
   ],
   "source": [
    "print(responseFT.json()[\"body\"])"
   ]
  },
  {
   "cell_type": "code",
   "execution_count": null,
   "metadata": {},
   "outputs": [],
   "source": []
  }
 ],
 "metadata": {
  "kernelspec": {
   "display_name": "Python 3",
   "language": "python",
   "name": "python3"
  },
  "language_info": {
   "codemirror_mode": {
    "name": "ipython",
    "version": 3
   },
   "file_extension": ".py",
   "mimetype": "text/x-python",
   "name": "python",
   "nbconvert_exporter": "python",
   "pygments_lexer": "ipython3",
   "version": "3.7.4"
  }
 },
 "nbformat": 4,
 "nbformat_minor": 4
}
