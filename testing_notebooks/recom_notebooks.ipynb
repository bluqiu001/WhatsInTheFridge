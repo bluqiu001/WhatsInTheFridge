{
 "cells": [
  {
   "cell_type": "code",
   "execution_count": 15,
   "metadata": {},
   "outputs": [
    {
     "name": "stdout",
     "output_type": "stream",
     "text": [
      "<bound method Response.json of <Response [200]>>\n"
     ]
    }
   ],
   "source": [
    "import requests\n",
    "import json\n",
    "\n",
    "apiFTKey = \"gXj2IxaxTc1YededFaHXgab6xFHbO2I76RNEmwzW\"\n",
    "headers = {'X-API-Key':apiFTKey}\n",
    "apiFTUrl = \"https://4t2d1vr498.execute-api.us-east-1.amazonaws.com/default/recom_v2\"\n",
    "payloadFT = json.dumps({\n",
    "  \"last_recoms\": \"None\",\n",
    "  \"user_id\": 222,\n",
    "  \"recom_amount\": 15\n",
    "})\n",
    "header={\"x-api-key\" : apiFTKey}\n",
    "responseFT = requests.get(apiFTUrl, data=payloadFT, headers=header)\n",
    "if responseFT.status_code == 200:\n",
    "    print(responseFT.json)\n",
    "else:\n",
    "    print(responseFT.status_code)\n",
    "    print(\"Error executing API\")\n"
   ]
  },
  {
   "cell_type": "code",
   "execution_count": 16,
   "metadata": {},
   "outputs": [
    {
     "name": "stdout",
     "output_type": "stream",
     "text": [
      "{'statusCode': 200, 'body': '\"{\\\\\"recom_ids\\\\\": [30, 1, 15, 27, 11, 18, 17, 6, 16, 13, 28, 26, 21, 19, 0]}\"'}\n"
     ]
    }
   ],
   "source": [
    "print(responseFT.json())"
   ]
  },
  {
   "cell_type": "code",
   "execution_count": null,
   "metadata": {},
   "outputs": [],
   "source": []
  }
 ],
 "metadata": {
  "kernelspec": {
   "display_name": "Python 3",
   "language": "python",
   "name": "python3"
  },
  "language_info": {
   "codemirror_mode": {
    "name": "ipython",
    "version": 3
   },
   "file_extension": ".py",
   "mimetype": "text/x-python",
   "name": "python",
   "nbconvert_exporter": "python",
   "pygments_lexer": "ipython3",
   "version": "3.7.4"
  }
 },
 "nbformat": 4,
 "nbformat_minor": 4
}
